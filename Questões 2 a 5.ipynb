{
  "nbformat": 4,
  "nbformat_minor": 0,
  "metadata": {
    "colab": {
      "provenance": []
    },
    "kernelspec": {
      "name": "python3",
      "display_name": "Python 3"
    },
    "language_info": {
      "name": "python"
    }
  },
  "cells": [
    {
      "cell_type": "markdown",
      "source": [
        "\n",
        "**Questão 2**\n"
      ],
      "metadata": {
        "id": "Noh1xolIh3kN"
      }
    },
    {
      "cell_type": "code",
      "source": [
        "userNumber = int(input(\"Digite um valor: \"))\n",
        "\n",
        "n1,n2 = 0,1\n",
        "\n",
        "counter = 1\n",
        "\n",
        "while (True):\n",
        "    \n",
        "    if(userNumber == n1):\n",
        "        print(f\"O numero {userNumber} é o {counter}º elemento da sequencia de fibonacci\")\n",
        "        break\n",
        "    elif (n1 > userNumber):\n",
        "        print(f\"O {userNumber} não está na sequência de fibonacci\")\n",
        "        break\n",
        "    n1,n2 = n2, n1+n2\n",
        "    counter +=1\n"
      ],
      "metadata": {
        "colab": {
          "base_uri": "https://localhost:8080/"
        },
        "id": "a0XL_JD1h7eV",
        "outputId": "bf8470c3-b132-4dfa-cf2b-5f19547f942c"
      },
      "execution_count": 37,
      "outputs": [
        {
          "output_type": "stream",
          "name": "stdout",
          "text": [
            "Digite um valor: 34\n",
            "O numero 34 é o 10º elemento da sequencia de fibonacci\n"
          ]
        }
      ]
    },
    {
      "cell_type": "markdown",
      "source": [
        "**Questão 3**\n"
      ],
      "metadata": {
        "id": "cp1tSrUmbYFi"
      }
    },
    {
      "cell_type": "code",
      "execution_count": 38,
      "metadata": {
        "colab": {
          "base_uri": "https://localhost:8080/"
        },
        "id": "K8SkEchuWmkA",
        "outputId": "230f8769-4c87-4763-bd95-9ab0546474d5"
      },
      "outputs": [
        {
          "output_type": "stream",
          "name": "stdout",
          "text": [
            "lista sem valores nulos:  [{'dia': 1, 'valor': 22174.1664}, {'dia': 2, 'valor': 24537.6698}, {'dia': 3, 'valor': 26139.6134}, {'dia': 6, 'valor': 26742.6612}, {'dia': 8, 'valor': 42889.2258}, {'dia': 9, 'valor': 46251.174}, {'dia': 10, 'valor': 11191.4722}, {'dia': 13, 'valor': 3847.4823}, {'dia': 14, 'valor': 373.7838}, {'dia': 15, 'valor': 2659.7563}, {'dia': 16, 'valor': 48924.2448}, {'dia': 17, 'valor': 18419.2614}, {'dia': 20, 'valor': 35240.1826}, {'dia': 21, 'valor': 43829.1667}, {'dia': 22, 'valor': 18235.6852}, {'dia': 23, 'valor': 4355.0662}, {'dia': 24, 'valor': 13327.1025}, {'dia': 27, 'valor': 25681.8318}, {'dia': 28, 'valor': 1718.1221}, {'dia': 29, 'valor': 13220.495}, {'dia': 30, 'valor': 8414.61}]\n",
            "media: 20865.3702\n",
            "maior: 48924.2448\n",
            "menor: 373.7838\n",
            "[{'dia': 1, 'valor': 22174.1664}, {'dia': 2, 'valor': 24537.6698}, {'dia': 3, 'valor': 26139.6134}, {'dia': 6, 'valor': 26742.6612}, {'dia': 8, 'valor': 42889.2258}, {'dia': 9, 'valor': 46251.174}, {'dia': 16, 'valor': 48924.2448}, {'dia': 20, 'valor': 35240.1826}, {'dia': 21, 'valor': 43829.1667}, {'dia': 27, 'valor': 25681.8318}]\n"
          ]
        }
      ],
      "source": [
        "import json\n",
        "\n",
        "with open('dados.json','r') as out:\n",
        "    faturamento = json.loads(out.read())\n",
        "\n",
        "#tratamento de dado\n",
        "faturamento=[ e for e in faturamento if e['valor'] != 0.0]\n",
        "\n",
        "print(\"lista sem valores nulos: \",faturamento)\n",
        "\n",
        "# média\n",
        "\n",
        "media = sum([e['valor'] for e in faturamento])/len(faturamento)\n",
        "media = round(media,4)\n",
        "print('media:',media)\n",
        "\n",
        "# maior\n",
        "\n",
        "maior = max([e['valor'] for e in faturamento])\n",
        "\n",
        "print('maior:',maior)\n",
        "\n",
        "# menor\n",
        "menor = min([e['valor'] for e in faturamento])\n",
        "\n",
        "print('menor:',menor)\n",
        "\n",
        "# maiores que a média\n",
        "maiores = [e for e in faturamento if e['valor']>media]\n",
        "\n",
        "print(maiores)"
      ]
    },
    {
      "cell_type": "markdown",
      "source": [
        "**Questão 4**"
      ],
      "metadata": {
        "id": "tS7ZH3jabeb5"
      }
    },
    {
      "cell_type": "code",
      "source": [
        "lista = [{'estado':'SP','valor':'R$67.836,43'},\n",
        "{'estado':'RJ','valor':'R$36.678,66'},\n",
        "{'estado':'MG','valor':'R$29.229,88'},\n",
        "{'estado':'ES','valor':'R$27.165,48'},\n",
        "{'estado':'Outros','valor':'R$19.849,53'}]\n",
        "\n",
        "\n",
        "#tratar os dados\n",
        "print(lista)\n",
        "for e in lista:\n",
        "  e['valor'] = float(e['valor'].replace('R$','').replace('.','').replace(',','.'))\n",
        "\n",
        "\n",
        "# soma\n",
        "\n",
        "soma = round(sum([e['valor'] for e in lista]),2)\n",
        "\n",
        "for e in lista:\n",
        "  print(f'A representação do estado de {e[\"estado\"]} é de {round(e[\"valor\"]/soma,2)*100}%')\n",
        "\n",
        "print(lista)"
      ],
      "metadata": {
        "colab": {
          "base_uri": "https://localhost:8080/"
        },
        "id": "VQ14aWAKbj7d",
        "outputId": "dbd6b025-e980-491d-f663-e9ad61589fd9"
      },
      "execution_count": 39,
      "outputs": [
        {
          "output_type": "stream",
          "name": "stdout",
          "text": [
            "[{'estado': 'SP', 'valor': 'R$67.836,43'}, {'estado': 'RJ', 'valor': 'R$36.678,66'}, {'estado': 'MG', 'valor': 'R$29.229,88'}, {'estado': 'ES', 'valor': 'R$27.165,48'}, {'estado': 'Outros', 'valor': 'R$19.849,53'}]\n",
            "A representação do estado de SP é de 38.0%\n",
            "A representação do estado de RJ é de 20.0%\n",
            "A representação do estado de MG é de 16.0%\n",
            "A representação do estado de ES é de 15.0%\n",
            "A representação do estado de Outros é de 11.0%\n",
            "[{'estado': 'SP', 'valor': 67836.43}, {'estado': 'RJ', 'valor': 36678.66}, {'estado': 'MG', 'valor': 29229.88}, {'estado': 'ES', 'valor': 27165.48}, {'estado': 'Outros', 'valor': 19849.53}]\n"
          ]
        }
      ]
    },
    {
      "cell_type": "markdown",
      "source": [
        "**Questão 5**"
      ],
      "metadata": {
        "id": "UelW8PHIfpEv"
      }
    },
    {
      "cell_type": "code",
      "source": [
        "\n",
        "entrada = input(\"digite uma frase: \")\n",
        "\n",
        "# forma simples\n",
        "\n",
        "resultado = entrada[::-1]\n",
        "\n",
        "print('Forma simples:',resultado)\n",
        "# forma complexa\n",
        "\n",
        "string_invertida=''\n",
        "for c in range(len(entrada)-1,-1,-1):\n",
        "  string_invertida+=entrada[c]\n",
        "\n",
        "print('forma complexa:',string_invertida)"
      ],
      "metadata": {
        "colab": {
          "base_uri": "https://localhost:8080/"
        },
        "id": "p-4sh74Afrih",
        "outputId": "fc213860-57e2-434c-b8be-6ece4669e0d9"
      },
      "execution_count": 40,
      "outputs": [
        {
          "output_type": "stream",
          "name": "stdout",
          "text": [
            "digite uma frase: O rei roeu a roupa do rei de roma\n",
            "Forma simples:  amor ed ier od apuor a ueor ier O\n",
            "forma complexa:  amor ed ier od apuor a ueor ier O\n"
          ]
        }
      ]
    }
  ]
}